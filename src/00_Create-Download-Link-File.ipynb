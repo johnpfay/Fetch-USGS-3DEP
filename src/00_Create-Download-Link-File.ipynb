{
 "cells": [
  {
   "cell_type": "markdown",
   "id": "7d97b7e8",
   "metadata": {},
   "source": [
    "# Create `download_links.csv` file\n",
    "This notebook scrapes the USGS 3DEP Hurricane Florence archive to create a single CSV file with all the download links.\n",
    "\n",
    "**CONDA ENVIRONMENT**: `arcgispro-py3`"
   ]
  },
  {
   "cell_type": "code",
   "execution_count": null,
   "id": "7784d029",
   "metadata": {},
   "outputs": [],
   "source": [
    "# Import packages\n",
    "from pathlib import Path\n",
    "from urllib import request\n",
    "import pandas as pd"
   ]
  },
  {
   "cell_type": "code",
   "execution_count": null,
   "id": "ee800578",
   "metadata": {},
   "outputs": [],
   "source": [
    "# Paths: Scratch folder (Create if needed)\n",
    "scratch_folder = Path.cwd().parent/'data'/'scratch'\n",
    "scratch_folder.mkdir(parents=True,exist_ok='True')\n",
    "\n",
    "# Paths: download_links.csv file\n",
    "download_csv = Path.cwd().parent/'data'/'download_links.csv'\n",
    "if download_csv.exists():\n",
    "    print(f'{download_csv} exists!')"
   ]
  },
  {
   "cell_type": "code",
   "execution_count": null,
   "id": "12400cbf",
   "metadata": {},
   "outputs": [],
   "source": [
    "# %% Set the url to the main page holding the links\n",
    "url = 'https://rockyweb.usgs.gov/vdelivery/Datasets/Staged/Elevation/LPC/Projects/NC_HurricaneFlorence_2020_D20/'\n",
    "\n",
    "#Fetch the page & pull the content\n",
    "response = request.urlopen(url)\n",
    "webContent = response.read().decode('utf-8')\n",
    "\n",
    "#Find the lines with the links\n",
    "link_lines = [line for line in webContent.split('\\n') if 'a href=\"NC_Hur' in line]\n",
    "\n",
    "#Extract the links into a list\n",
    "links = [url + line.split('a href=\"')[1].split('\"')[0] for line in link_lines]\n",
    "print(f'{len(links)} links extracted')"
   ]
  },
  {
   "cell_type": "code",
   "execution_count": null,
   "id": "be150397",
   "metadata": {},
   "outputs": [],
   "source": [
    "# Fetch the list of links in each folder\n",
    "print(\"fetching download links\")\n",
    "verbose = False\n",
    "for link in links:\n",
    "    #Get the base name of the file\n",
    "    folder_name = link.split('/')[-2]\n",
    "    #Set the output filename\n",
    "    output_filename = scratch_folder/f'{folder_name}.txt'\n",
    "    #Fetch the file, if it doesn't exist\n",
    "    if not Path(output_filename).exists():\n",
    "        print(f'Downloading {folder_name}...')\n",
    "        #Set the url\n",
    "        url = f'{link}0_file_download_links.txt'\n",
    "        request.urlretrieve(url, output_filename)\n",
    "    else:\n",
    "        if verbose:  print(f'{folder_name} already downloaded to {output_filename}.')"
   ]
  },
  {
   "cell_type": "code",
   "execution_count": null,
   "id": "8dc3bd3d",
   "metadata": {},
   "outputs": [],
   "source": [
    "#Create a dataframe to hold the filename and links\n",
    "df = pd.DataFrame(columns=['filename', 'link', 'tile_id'])\n",
    "\n",
    "#Get a list of files\n",
    "files = [f for f in scratch_folder.rglob('*.txt')]\n",
    "i = 0\n",
    "#Loop through the files\n",
    "for file in files:\n",
    "    print(f'Reading {file}...')\n",
    "    #Read the file\n",
    "    with open(file, 'r') as f:\n",
    "        for line in f.readlines():\n",
    "            line = line.strip()\n",
    "            tile_id = line.split('/')[-1].split('_')[-1][:-4]\n",
    "            df.loc[i] = [file.stem, line, tile_id]  #.strip()]\n",
    "            i += 1\n",
    "\n",
    "#Export to a file\n",
    "df.to_csv(download_csv, index=False)\n",
    "print(f'File saved to {download_csv}')"
   ]
  },
  {
   "cell_type": "code",
   "execution_count": 23,
   "id": "ef566321",
   "metadata": {},
   "outputs": [],
   "source": [
    "#Delete the scratch folder\n",
    "[f.unlink() for f in scratch_folder.glob('*.txt')]\n",
    "scratch_folder.rmdir()"
   ]
  }
 ],
 "metadata": {
  "kernelspec": {
   "display_name": "arcgispro-py3",
   "language": "python",
   "name": "python3"
  },
  "language_info": {
   "codemirror_mode": {
    "name": "ipython",
    "version": 3
   },
   "file_extension": ".py",
   "mimetype": "text/x-python",
   "name": "python",
   "nbconvert_exporter": "python",
   "pygments_lexer": "ipython3",
   "version": "3.11.11"
  }
 },
 "nbformat": 4,
 "nbformat_minor": 5
}
