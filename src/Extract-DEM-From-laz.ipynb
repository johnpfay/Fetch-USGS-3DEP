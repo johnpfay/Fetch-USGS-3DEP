{
 "cells": [
  {
   "cell_type": "markdown",
   "id": "6ac0d42b",
   "metadata": {},
   "source": [
    "# Extract DEM from laz \n",
    "This notebook proccesses the raw USGS 3DEP LAZ file falling within a geometry provided into a single DEM.\n",
    "\n",
    "**CONDA ENVIRONMENT**: `arcgispro-py3`"
   ]
  },
  {
   "cell_type": "code",
   "execution_count": 1,
   "id": "ccaaba06",
   "metadata": {},
   "outputs": [],
   "source": [
    "#Packages\n",
    "from pathlib import Path\n",
    "import pandas as pd\n",
    "import arcpy\n",
    "\n",
    "arcpy.env.overwriteOutput = True"
   ]
  },
  {
   "cell_type": "markdown",
   "id": "c86f9504",
   "metadata": {},
   "source": [
    "* Get the tile features (found in `common\\USGS_3DEP\\USGS_Tiles\\USGS3DEP_Indices.gdb`)"
   ]
  },
  {
   "cell_type": "code",
   "execution_count": 2,
   "id": "2ffaa7ab",
   "metadata": {},
   "outputs": [
    {
     "name": "stdout",
     "output_type": "stream",
     "text": [
      "Tiles Feature class found!\n"
     ]
    }
   ],
   "source": [
    "#Get the geodatabase containing USGS 3DEP Tiles\n",
    "tile_fc_gdb = Path(r'\\\\ns-gis\\DitchMapping\\common\\USGS_3DEP\\USGS_Tiles\\USGS3DEP_Indices.gdb')\n",
    "if not tile_fc_gdb.exists():\n",
    "    print(f'Failed to find Tile geodatabase: {tile_fc_gdb}')\n",
    "\n",
    "#Get the feature class\n",
    "tile_fc = str(tile_fc_gdb/'USGS_Tiles')\n",
    "if not arcpy.Exists(tile_fc):\n",
    "    print(f'Failed to find the USGS 3DEP Tile feature class: {tile_fc}')\n",
    "else:\n",
    "    print('Tiles Feature class found!')"
   ]
  },
  {
   "cell_type": "markdown",
   "id": "1ab81071",
   "metadata": {},
   "source": [
    "* Get the list of Duke LAS files used to define which USGS Tiles to get"
   ]
  },
  {
   "cell_type": "code",
   "execution_count": 3,
   "id": "0f1b265b",
   "metadata": {},
   "outputs": [
    {
     "data": {
      "text/plain": [
       "[WindowsPath('//ns-gis/DitchMapping/common/Duke/Hoffman/Hof01_Final.las'),\n",
       " WindowsPath('//ns-gis/DitchMapping/common/Duke/Hoffman/Hof02_Final.las'),\n",
       " WindowsPath('//ns-gis/DitchMapping/common/Duke/Hoffman/Hof04_Final.las'),\n",
       " WindowsPath('//ns-gis/DitchMapping/common/Duke/Hoffman/Hof07_Final.las')]"
      ]
     },
     "execution_count": 3,
     "metadata": {},
     "output_type": "execute_result"
    }
   ],
   "source": [
    "#Get the Duke las files\n",
    "the_folder = Path(r'\\\\ns-gis\\DitchMapping\\common\\Duke\\Hoffman')\n",
    "las_files = list(the_folder.glob('*.las'))\n",
    "las_files"
   ]
  },
  {
   "cell_type": "markdown",
   "id": "ad4b896e",
   "metadata": {},
   "source": [
    "* Process a single las file\n",
    "    - Create a `lasd` file from the `las` file\n",
    "    - Get the extent of the `lasd` file\n",
    "    - Create a polygon from the extent\n",
    "    - Create a feature class contaning the extent"
   ]
  },
  {
   "cell_type": "code",
   "execution_count": 4,
   "id": "46296038",
   "metadata": {},
   "outputs": [],
   "source": [
    "#Get the footprint from a las file\n",
    "las_file = las_files[3]\n",
    "#Create a lasd file\n",
    "lasd_file = str(las_file) + \"d\"\n",
    "arcpy.management.CreateLasDataset(str(las_file),lasd_file)\n",
    "#Get the extent\n",
    "lasd_info = arcpy.da.Describe(lasd_file)\n",
    "las_extent = lasd_info['extent']\n",
    "xMin = las_extent.XMin\n",
    "xMax = las_extent.XMax\n",
    "yMin = las_extent.YMin\n",
    "yMax = las_extent.YMax\n",
    "sr = lasd_info['spatialReference']\n",
    "#Create a polygon of the outline\n",
    "array = arcpy.Array([\n",
    "    arcpy.Point(xMin, yMin),\n",
    "    arcpy.Point(xMin, yMax),\n",
    "    arcpy.Point(xMax, yMax),\n",
    "    arcpy.Point(xMax, yMin),\n",
    "    arcpy.Point(xMin, yMin)  # Close the polygon\n",
    "])\n",
    "\n",
    "# Create polygon geometry\n",
    "polygon = arcpy.Polygon(array, sr)  # Use appropriate EPSG code here\n",
    "# Create the feature class from the polygon\n",
    "footprint_fc = arcpy.management.CreateFeatureclass(\n",
    "    out_path='memory',\n",
    "    out_name='footprint',\n",
    "    geometry_type=\"POLYGON\",\n",
    "    spatial_reference=polygon.spatialReference\n",
    ")[0]\n",
    "\n",
    "#Insert the footprint polygon\n",
    "with arcpy.da.InsertCursor(footprint_fc, [\"SHAPE@\"]) as cursor:\n",
    "    cursor.insertRow([polygon])"
   ]
  },
  {
   "cell_type": "markdown",
   "id": "52fdece3",
   "metadata": {},
   "source": [
    "* Select all the USGS 3DEP Tiles that intersect the extent feature class\n",
    "    - Create a feature layer of the tiles\n",
    "    - Use `SelectLayerByLocation` to find intersecting 3DEP Tiles"
   ]
  },
  {
   "cell_type": "code",
   "execution_count": 5,
   "id": "fdc29403",
   "metadata": {},
   "outputs": [
    {
     "data": {
      "text/html": [
       "<div class='gpresult'><h2 class='msg-title'>Messages</h2><div id='messages'>Start Time: Monday, June 9, 2025 8:18:34 PM<br>Succeeded at Monday, June 9, 2025 8:18:34 PM (Elapsed Time: 0.08 seconds)<br></div><div id = 'default' /></div></div>"
      ],
      "text/plain": [
       "<Result 'tiles_lyr'>"
      ]
     },
     "execution_count": 5,
     "metadata": {},
     "output_type": "execute_result"
    }
   ],
   "source": [
    "#Create a feature layer of the Tiles\n",
    "arcpy.management.MakeFeatureLayer(\n",
    "    in_features = tile_fc,\n",
    "    out_layer = \"tiles_lyr\"\n",
    ")\n",
    "\n",
    "#Find the tiles intersecting the footprint\n",
    "arcpy.management.SelectLayerByLocation(\n",
    "    in_layer=\"tiles_lyr\",\n",
    "    overlap_type=\"INTERSECT\",\n",
    "    select_features=footprint_fc,\n",
    "    selection_type=\"NEW_SELECTION\"\n",
    ")"
   ]
  },
  {
   "cell_type": "markdown",
   "id": "980fcee5",
   "metadata": {},
   "source": [
    "* Create a dataframe from the selected tiles\n",
    "    - Create columns containing the 3DEP Project and the tile name "
   ]
  },
  {
   "cell_type": "code",
   "execution_count": 6,
   "id": "4af4f134",
   "metadata": {},
   "outputs": [
    {
     "data": {
      "text/html": [
       "<div>\n",
       "<style scoped>\n",
       "    .dataframe tbody tr th:only-of-type {\n",
       "        vertical-align: middle;\n",
       "    }\n",
       "\n",
       "    .dataframe tbody tr th {\n",
       "        vertical-align: top;\n",
       "    }\n",
       "\n",
       "    .dataframe thead th {\n",
       "        text-align: right;\n",
       "    }\n",
       "</style>\n",
       "<table border=\"1\" class=\"dataframe\">\n",
       "  <thead>\n",
       "    <tr style=\"text-align: right;\">\n",
       "      <th></th>\n",
       "      <th>project</th>\n",
       "      <th>tile</th>\n",
       "    </tr>\n",
       "  </thead>\n",
       "  <tbody>\n",
       "    <tr>\n",
       "      <th>0</th>\n",
       "      <td>NC_HurricaneFlorence_3_2020</td>\n",
       "      <td>18STD27908685.las</td>\n",
       "    </tr>\n",
       "    <tr>\n",
       "      <th>1</th>\n",
       "      <td>NC_HurricaneFlorence_3_2020</td>\n",
       "      <td>18STD28058685.las</td>\n",
       "    </tr>\n",
       "    <tr>\n",
       "      <th>2</th>\n",
       "      <td>NC_HurricaneFlorence_3_2020</td>\n",
       "      <td>18STD27978692.las</td>\n",
       "    </tr>\n",
       "    <tr>\n",
       "      <th>3</th>\n",
       "      <td>NC_HurricaneFlorence_3_2020</td>\n",
       "      <td>18STD27908692.las</td>\n",
       "    </tr>\n",
       "    <tr>\n",
       "      <th>4</th>\n",
       "      <td>NC_HurricaneFlorence_3_2020</td>\n",
       "      <td>18STD28058692.las</td>\n",
       "    </tr>\n",
       "    <tr>\n",
       "      <th>5</th>\n",
       "      <td>NC_HurricaneFlorence_3_2020</td>\n",
       "      <td>18STD27978685.las</td>\n",
       "    </tr>\n",
       "  </tbody>\n",
       "</table>\n",
       "</div>"
      ],
      "text/plain": [
       "                       project               tile\n",
       "0  NC_HurricaneFlorence_3_2020  18STD27908685.las\n",
       "1  NC_HurricaneFlorence_3_2020  18STD28058685.las\n",
       "2  NC_HurricaneFlorence_3_2020  18STD27978692.las\n",
       "3  NC_HurricaneFlorence_3_2020  18STD27908692.las\n",
       "4  NC_HurricaneFlorence_3_2020  18STD28058692.las\n",
       "5  NC_HurricaneFlorence_3_2020  18STD27978685.las"
      ]
     },
     "execution_count": 6,
     "metadata": {},
     "output_type": "execute_result"
    }
   ],
   "source": [
    "#Read the selected tiles into a dataframe\n",
    "df = pd.DataFrame(arcpy.da.FeatureClassToNumPyArray(\n",
    "    in_table='tiles_lyr',\n",
    "    field_names=['location']\n",
    "))\n",
    "#Split the location path into elements and keep the ones we want (project and tile name)\n",
    "df = df['location'].str.split('/', expand=True)[[4,7]].rename(columns={4:'project',7:'tile'})\n",
    "df"
   ]
  },
  {
   "cell_type": "markdown",
   "id": "06599959",
   "metadata": {},
   "source": [
    "* Fetch the laz files, converting each to a DEM"
   ]
  },
  {
   "cell_type": "code",
   "execution_count": 7,
   "id": "24424581",
   "metadata": {},
   "outputs": [
    {
     "name": "stdout",
     "output_type": "stream",
     "text": [
      "d:\\jpfay\\Fetch-USGS-3DEP\\data\\LAS_scratch already exists. Will not be deleted.\n"
     ]
    }
   ],
   "source": [
    "#Create a scratch folder to hold intermediate files\n",
    "scratch_fldr = Path.cwd().parent/'data'/'LAS_scratch'\n",
    "\n",
    "#See if we can remove the folder (i.e. if it doesn't exist already)\n",
    "if scratch_fldr.exists():\n",
    "    delete_ok = False\n",
    "    print(f'{scratch_fldr} already exists. Will not be deleted.')\n",
    "else:\n",
    "    delete_ok = True\n",
    "    scratch_fldr.mkdir(parents=True,exist_ok=True)\n",
    "    print(f'{scratch_fldr} created. Will be deleted on completion')"
   ]
  },
  {
   "cell_type": "code",
   "execution_count": 8,
   "id": "db35012f",
   "metadata": {},
   "outputs": [
    {
     "name": "stdout",
     "output_type": "stream",
     "text": [
      "Converting 18STD27908685.laz to 18STD27908685.las\n",
      "Creating DEM d:\\jpfay\\Fetch-USGS-3DEP\\data\\LAS_scratch\\DEM_18STD27908685.tif\n",
      "Converting 18STD28058685.laz to 18STD28058685.las\n",
      "Creating DEM d:\\jpfay\\Fetch-USGS-3DEP\\data\\LAS_scratch\\DEM_18STD28058685.tif\n",
      "Converting 18STD27978692.laz to 18STD27978692.las\n",
      "Creating DEM d:\\jpfay\\Fetch-USGS-3DEP\\data\\LAS_scratch\\DEM_18STD27978692.tif\n",
      "Converting 18STD27908692.laz to 18STD27908692.las\n",
      "Creating DEM d:\\jpfay\\Fetch-USGS-3DEP\\data\\LAS_scratch\\DEM_18STD27908692.tif\n",
      "las file already created; skipping\n",
      "d:\\jpfay\\Fetch-USGS-3DEP\\data\\LAS_scratch\\DEM_18STD28058692.tif exists; skipping\n",
      "Converting 18STD27978685.laz to 18STD27978685.las\n",
      "Creating DEM d:\\jpfay\\Fetch-USGS-3DEP\\data\\LAS_scratch\\DEM_18STD27978685.tif\n"
     ]
    }
   ],
   "source": [
    "#Fetch the tiles from the Box drive\n",
    "box_path = Path.home()/'Box'/ 'PROJECT 05-21-2025□ USGS3DEP'\n",
    "if not box_path.exists(): print('Unable to connect to Box folder')\n",
    "the_dems = []\n",
    "\n",
    "for the_idx in df.index.values: \n",
    "    #Get the project folder\n",
    "    the_folder = box_path / df.loc[the_idx,'project']\n",
    "    if not the_folder.exists(): \n",
    "        print(f'unable to locate {the_folder}')\n",
    "        break\n",
    "    #Get the tile in the folder\n",
    "    the_tile = the_folder / df.loc[the_idx,'tile'].replace('.las','.laz')\n",
    "    if not the_tile.exists(): \n",
    "        print(f'unable to locate {the_tile}')\n",
    "        break\n",
    "    #Convert the laz file to a lasd file\n",
    "    lasd_filename = str(the_tile.name).replace('.laz','.las')\n",
    "    if (scratch_fldr/lasd_filename).exists():\n",
    "        print(f'las file already created; skipping')\n",
    "    else:\n",
    "        print(f'Converting {the_tile.name} to {lasd_filename}')\n",
    "        arcpy.conversion.ConvertLas(\n",
    "            in_las = str(the_tile),\n",
    "            target_folder = str(scratch_fldr),\n",
    "            las_options=['REARRANGE_POINTS'],\n",
    "            out_las_dataset=lasd_filename\n",
    "        )\n",
    "    #Filter out ground points (Class=2) and convert to raster\n",
    "    arcpy.management.MakeLasDatasetLayer(\n",
    "        in_las_dataset=str(scratch_fldr/lasd_filename),\n",
    "        out_layer='ground_las',\n",
    "        class_code=[2]\n",
    "    )\n",
    "    #Convert to raster\n",
    "    las_dem = scratch_fldr/f'DEM_{lasd_filename[:-4]}.tif'\n",
    "    if las_dem.exists():\n",
    "        print(f'{las_dem} exists; skipping')\n",
    "    else:\n",
    "        print(f'Creating DEM {las_dem}')\n",
    "        arcpy.conversion.LasDatasetToRaster(\n",
    "            in_las_dataset='ground_las', \n",
    "            out_raster=str(las_dem), \n",
    "            value_field='ELEVATION',\n",
    "            interpolation_type='BINNING AVERAGE LINEAR', \n",
    "            data_type='FLOAT', \n",
    "            sampling_type='CELLSIZE', \n",
    "            sampling_value=0.5, \n",
    "            z_factor=1\n",
    "            )\n",
    "    #Add the dem to the list of dems\n",
    "    the_dems.append(las_dem)"
   ]
  },
  {
   "cell_type": "code",
   "execution_count": 10,
   "id": "f52d5db4",
   "metadata": {},
   "outputs": [
    {
     "name": "stdout",
     "output_type": "stream",
     "text": [
      "Mosaic rasters to d:\\jpfay\\Fetch-USGS-3DEP\\data\\LAS_scratch\\Hof07_Final.tif\n"
     ]
    },
    {
     "data": {
      "text/html": [
       "<div class='gpresult'><h2 class='msg-title'>Messages</h2><div id='messages'>Start Time: Monday, June 9, 2025 8:31:50 PM<br>Building Pyramids...<br>Succeeded at Monday, June 9, 2025 8:31:55 PM (Elapsed Time: 4.76 seconds)<br></div><div id = 'default' /></div></div>"
      ],
      "text/plain": [
       "<Result 'd:\\\\jpfay\\\\Fetch-USGS-3DEP\\\\data\\\\LAS_scratch\\\\Hof07_Final.tif'>"
      ]
     },
     "execution_count": 10,
     "metadata": {},
     "output_type": "execute_result"
    }
   ],
   "source": [
    "#Mosaic all the DEMs and clip them to the Duke LAS footprint\n",
    "output_name = las_file.name[:-4]+'.tif'\n",
    "print(f'Mosaic rasters to {scratch_fldr/output_name}')\n",
    "arcpy.management.MosaicToNewRaster(\n",
    "    input_rasters = [str(d) for d in the_dems],\n",
    "    output_location= str(scratch_fldr),\n",
    "    raster_dataset_name_with_extension=output_name,\n",
    "    pixel_type='32_BIT_FLOAT',\n",
    "    cellsize=0.5,\n",
    "    number_of_bands=1,\n",
    "    mosaic_method='BLEND',\n",
    "    mosaic_colormap_mode='FIRST'\n",
    ")"
   ]
  }
 ],
 "metadata": {
  "kernelspec": {
   "display_name": "arcgispro-py3",
   "language": "python",
   "name": "python3"
  },
  "language_info": {
   "codemirror_mode": {
    "name": "ipython",
    "version": 3
   },
   "file_extension": ".py",
   "mimetype": "text/x-python",
   "name": "python",
   "nbconvert_exporter": "python",
   "pygments_lexer": "ipython3",
   "version": "3.11.11"
  }
 },
 "nbformat": 4,
 "nbformat_minor": 5
}
