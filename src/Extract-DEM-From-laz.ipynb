{
 "cells": [
  {
   "cell_type": "markdown",
   "id": "6ac0d42b",
   "metadata": {},
   "source": [
    "# Extract DEM from laz \n",
    "This notebook proccesses the raw USGS 3DEP LAZ file falling within a geometry provided into a single DEM.\n",
    "\n",
    "**CONDA ENVIRONMENT**: `arcgispro-py3`"
   ]
  },
  {
   "cell_type": "code",
   "execution_count": 28,
   "id": "ccaaba06",
   "metadata": {},
   "outputs": [],
   "source": [
    "#Packages\n",
    "from pathlib import Path\n",
    "import pandas as pd\n",
    "import arcpy\n",
    "\n",
    "arcpy.env.overwriteOutput = True"
   ]
  },
  {
   "cell_type": "markdown",
   "id": "c86f9504",
   "metadata": {},
   "source": [
    "* Get the tile features (found in `common\\USGS_3DEP\\USGS_Tiles\\USGS3DEP_Indices.gdb`)"
   ]
  },
  {
   "cell_type": "code",
   "execution_count": null,
   "id": "2ffaa7ab",
   "metadata": {},
   "outputs": [
    {
     "name": "stdout",
     "output_type": "stream",
     "text": [
      "Tiles Feature class found!\n"
     ]
    }
   ],
   "source": [
    "#Get the geodatabase containing USGS 3DEP Tiles\n",
    "tile_fc_gdb = Path(r'\\\\ns-gis\\DitchMapping\\common\\USGS_3DEP\\USGS_Tiles\\USGS3DEP_Indices.gdb')\n",
    "if not tile_fc_gdb.exists():\n",
    "    print(f'Failed to find Tile geodatabase: {tile_fc_gdb}')\n",
    "\n",
    "#Get the feature class\n",
    "tile_fc = str(tile_fc_gdb/'USGS_Tiles')\n",
    "if not arcpy.Exists(tile_fc):\n",
    "    print(f'Failed to find the USGS 3DEP Tile feature class: {tile_fc}')\n",
    "else:\n",
    "    print('Tiles Feature class found!')"
   ]
  },
  {
   "cell_type": "markdown",
   "id": "1ab81071",
   "metadata": {},
   "source": [
    "* Get the list of Duke LAS files used to define which USGS Tiles to get"
   ]
  },
  {
   "cell_type": "code",
   "execution_count": 9,
   "id": "0f1b265b",
   "metadata": {},
   "outputs": [
    {
     "data": {
      "text/plain": [
       "[WindowsPath('//ns-gis/DitchMapping/common/Duke/Hoffman/Hof01_Final.las'),\n",
       " WindowsPath('//ns-gis/DitchMapping/common/Duke/Hoffman/Hof02_Final.las'),\n",
       " WindowsPath('//ns-gis/DitchMapping/common/Duke/Hoffman/Hof04_Final.las'),\n",
       " WindowsPath('//ns-gis/DitchMapping/common/Duke/Hoffman/Hof07_Final.las')]"
      ]
     },
     "execution_count": 9,
     "metadata": {},
     "output_type": "execute_result"
    }
   ],
   "source": [
    "#Get the Duke las files\n",
    "the_folder = Path(r'\\\\ns-gis\\DitchMapping\\common\\Duke\\Hoffman')\n",
    "las_files = list(the_folder.glob('*.las'))\n",
    "las_files"
   ]
  },
  {
   "cell_type": "markdown",
   "id": "ad4b896e",
   "metadata": {},
   "source": [
    "* Process a single las file\n",
    "    - Create a `lasd` file from the `las` file\n",
    "    - Get the extent of the `lasd` file\n",
    "    - Create a polygon from the extent\n",
    "    - Create a feature class contaning the extent"
   ]
  },
  {
   "cell_type": "code",
   "execution_count": 12,
   "id": "46296038",
   "metadata": {},
   "outputs": [
    {
     "data": {
      "text/html": [
       "<div class='gpresult'><h2 class='msg-title'>Messages</h2><div id='messages'>Start Time: Monday, June 9, 2025 1:19:57 PM<br>Succeeded at Monday, June 9, 2025 1:21:37 PM (Elapsed Time: 1 minutes 39 seconds)<br></div><div id = 'default' /></div></div>"
      ],
      "text/plain": [
       "<Result '\\\\\\\\ns-gis\\\\DitchMapping\\\\common\\\\Duke\\\\Hoffman\\\\Hof01_Final.lasd'>"
      ]
     },
     "execution_count": 12,
     "metadata": {},
     "output_type": "execute_result"
    }
   ],
   "source": [
    "#Get the footprint from a las file\n",
    "las_file = las_files[0]\n",
    "#Create a lasd file\n",
    "lasd_file = str(las_file) + \"d\"\n",
    "arcpy.management.CreateLasDataset(str(las_file),lasd_file)"
   ]
  },
  {
   "cell_type": "code",
   "execution_count": 20,
   "id": "cfff4ee7",
   "metadata": {},
   "outputs": [],
   "source": [
    "#Get the extent\n",
    "lasd_info = arcpy.da.Describe(lasd_file)\n",
    "las_extent = lasd_info['extent']\n",
    "xMin = las_extent.XMin\n",
    "xMax = las_extent.XMax\n",
    "yMin = las_extent.YMin\n",
    "yMax = las_extent.YMax\n",
    "sr = lasd_info['spatialReference']"
   ]
  },
  {
   "cell_type": "code",
   "execution_count": 26,
   "id": "8895fe51",
   "metadata": {},
   "outputs": [],
   "source": [
    "#Create a polygon of the outline\n",
    "array = arcpy.Array([\n",
    "    arcpy.Point(xMin, yMin),\n",
    "    arcpy.Point(xMin, yMax),\n",
    "    arcpy.Point(xMax, yMax),\n",
    "    arcpy.Point(xMax, yMin),\n",
    "    arcpy.Point(xMin, yMin)  # Close the polygon\n",
    "])\n",
    "\n",
    "# Create polygon geometry\n",
    "polygon = arcpy.Polygon(array, sr)  # Use appropriate EPSG code here"
   ]
  },
  {
   "cell_type": "code",
   "execution_count": null,
   "id": "d4f6c741",
   "metadata": {},
   "outputs": [],
   "source": [
    "# Create the feature class from the polygon\n",
    "footprint_fc = arcpy.management.CreateFeatureclass(\n",
    "    out_path='memory',\n",
    "    out_name='footprint',\n",
    "    geometry_type=\"POLYGON\",\n",
    "    spatial_reference=polygon.spatialReference\n",
    ")[0]\n",
    "\n",
    "#Insert the footprint polygon\n",
    "with arcpy.da.InsertCursor(footprint_fc, [\"SHAPE@\"]) as cursor:\n",
    "    cursor.insertRow([polygon])"
   ]
  },
  {
   "cell_type": "markdown",
   "id": "52fdece3",
   "metadata": {},
   "source": [
    "* Select all the USGS 3DEP Tiles that intersect the extent feature class\n",
    "    - Create a feature layer of the tiles\n",
    "    - Use `SelectLayerByLocation` to find intersecting 3DEP Tiles"
   ]
  },
  {
   "cell_type": "code",
   "execution_count": 48,
   "id": "fdc29403",
   "metadata": {},
   "outputs": [
    {
     "data": {
      "text/html": [
       "<div class='gpresult'><h2 class='msg-title'>Messages</h2><div id='messages'>Start Time: Monday, June 9, 2025 1:54:52 PM<br>Succeeded at Monday, June 9, 2025 1:54:52 PM (Elapsed Time: 0.05 seconds)<br></div><div id = 'default' /></div></div>"
      ],
      "text/plain": [
       "<Result 'tiles_lyr'>"
      ]
     },
     "execution_count": 48,
     "metadata": {},
     "output_type": "execute_result"
    }
   ],
   "source": [
    "#Create a feature layer of the Tiles\n",
    "arcpy.management.MakeFeatureLayer(\n",
    "    in_features = tile_fc,\n",
    "    out_layer = \"tiles_lyr\"\n",
    ")\n",
    "\n",
    "#Find the tiles intersecting the footprint\n",
    "arcpy.management.SelectLayerByLocation(\n",
    "    in_layer=\"tiles_lyr\",\n",
    "    overlap_type=\"INTERSECT\",\n",
    "    select_features=footprint_fc,\n",
    "    selection_type=\"NEW_SELECTION\"\n",
    ")"
   ]
  },
  {
   "cell_type": "markdown",
   "id": "980fcee5",
   "metadata": {},
   "source": [
    "* Create a dataframe from the selected tiles\n",
    "    - Create columns containing the 3DEP Project and the tile name "
   ]
  },
  {
   "cell_type": "code",
   "execution_count": 70,
   "id": "4af4f134",
   "metadata": {},
   "outputs": [
    {
     "data": {
      "text/html": [
       "<div>\n",
       "<style scoped>\n",
       "    .dataframe tbody tr th:only-of-type {\n",
       "        vertical-align: middle;\n",
       "    }\n",
       "\n",
       "    .dataframe tbody tr th {\n",
       "        vertical-align: top;\n",
       "    }\n",
       "\n",
       "    .dataframe thead th {\n",
       "        text-align: right;\n",
       "    }\n",
       "</style>\n",
       "<table border=\"1\" class=\"dataframe\">\n",
       "  <thead>\n",
       "    <tr style=\"text-align: right;\">\n",
       "      <th></th>\n",
       "      <th>project</th>\n",
       "      <th>tile</th>\n",
       "    </tr>\n",
       "  </thead>\n",
       "  <tbody>\n",
       "    <tr>\n",
       "      <th>0</th>\n",
       "      <td>NC_HurricaneFlorence_3_2020</td>\n",
       "      <td>18STD28058700.las</td>\n",
       "    </tr>\n",
       "    <tr>\n",
       "      <th>1</th>\n",
       "      <td>NC_HurricaneFlorence_3_2020</td>\n",
       "      <td>18STD28128700.las</td>\n",
       "    </tr>\n",
       "    <tr>\n",
       "      <th>2</th>\n",
       "      <td>NC_HurricaneFlorence_3_2020</td>\n",
       "      <td>18STD28208692.las</td>\n",
       "    </tr>\n",
       "    <tr>\n",
       "      <th>3</th>\n",
       "      <td>NC_HurricaneFlorence_3_2020</td>\n",
       "      <td>18STD28058692.las</td>\n",
       "    </tr>\n",
       "    <tr>\n",
       "      <th>4</th>\n",
       "      <td>NC_HurricaneFlorence_3_2020</td>\n",
       "      <td>18STD28208700.las</td>\n",
       "    </tr>\n",
       "    <tr>\n",
       "      <th>5</th>\n",
       "      <td>NC_HurricaneFlorence_3_2020</td>\n",
       "      <td>18STD28128692.las</td>\n",
       "    </tr>\n",
       "  </tbody>\n",
       "</table>\n",
       "</div>"
      ],
      "text/plain": [
       "                       project               tile\n",
       "0  NC_HurricaneFlorence_3_2020  18STD28058700.las\n",
       "1  NC_HurricaneFlorence_3_2020  18STD28128700.las\n",
       "2  NC_HurricaneFlorence_3_2020  18STD28208692.las\n",
       "3  NC_HurricaneFlorence_3_2020  18STD28058692.las\n",
       "4  NC_HurricaneFlorence_3_2020  18STD28208700.las\n",
       "5  NC_HurricaneFlorence_3_2020  18STD28128692.las"
      ]
     },
     "execution_count": 70,
     "metadata": {},
     "output_type": "execute_result"
    }
   ],
   "source": [
    "#Read the selected tiles into a dataframe\n",
    "df = pd.DataFrame(arcpy.da.FeatureClassToNumPyArray(\n",
    "    in_table='tiles_lyr',\n",
    "    field_names=['location']\n",
    "))\n",
    "#Split the location path into elements and keep the ones we want (project and tile name)\n",
    "df = df['location'].str.split('/', expand=True)[[4,7]].rename(columns={4:'project',7:'tile'})\n",
    "df"
   ]
  },
  {
   "cell_type": "markdown",
   "id": "06599959",
   "metadata": {},
   "source": [
    "* Fetch the laz files, converting each to a DEM"
   ]
  },
  {
   "cell_type": "code",
   "execution_count": 95,
   "id": "24424581",
   "metadata": {},
   "outputs": [
    {
     "name": "stdout",
     "output_type": "stream",
     "text": [
      "d:\\jpfay\\Fetch-USGS-3DEP\\data\\LAS_scratch created. Will be deleted on completion\n"
     ]
    }
   ],
   "source": [
    "#Create a scratch folder to hold intermediate files\n",
    "scratch_fldr = Path.cwd().parent/'data'/'LAS_scratch'\n",
    "\n",
    "#See if we can remove the folder (i.e. if it doesn't exist already)\n",
    "if scratch_fldr.exists():\n",
    "    delete_ok = False\n",
    "    print(f'{scratch_fldr} already exists. Will not be deleted.')\n",
    "else:\n",
    "    delete_ok = True\n",
    "    scratch_fldr.mkdir(parents=True,exist_ok=True)\n",
    "    print(f'{scratch_fldr} created. Will be deleted on completion')"
   ]
  },
  {
   "cell_type": "code",
   "execution_count": 118,
   "id": "590239e1",
   "metadata": {},
   "outputs": [
    {
     "name": "stdout",
     "output_type": "stream",
     "text": [
      "0\n",
      "1\n",
      "2\n",
      "3\n",
      "4\n",
      "5\n"
     ]
    }
   ],
   "source": [
    "for i in df.index.values: print(i)"
   ]
  },
  {
   "cell_type": "code",
   "execution_count": null,
   "id": "db35012f",
   "metadata": {},
   "outputs": [
    {
     "name": "stdout",
     "output_type": "stream",
     "text": [
      "Converting 18STD28058700.laz to 18STD28058700.las\n",
      "d:\\jpfay\\Fetch-USGS-3DEP\\data\\LAS_scratch\\DEM_18STD28058700.tif exists; skipping\n",
      "Converting 18STD28128700.laz to 18STD28128700.las\n",
      "Creating DEM d:\\jpfay\\Fetch-USGS-3DEP\\data\\LAS_scratch\\DEM_18STD28128700.tif\n"
     ]
    },
    {
     "ename": "ExecuteError",
     "evalue": "ERROR 000210: Cannot create output DEM_18STD28128700.tif\nFailed to execute (LasDatasetToRaster).\n",
     "output_type": "error",
     "traceback": [
      "\u001b[1;31m---------------------------------------------------------------------------\u001b[0m",
      "\u001b[1;31mExecuteError\u001b[0m                              Traceback (most recent call last)",
      "Cell \u001b[1;32mIn[124], line 38\u001b[0m\n\u001b[0;32m     36\u001b[0m \u001b[38;5;28;01melse\u001b[39;00m:\n\u001b[0;32m     37\u001b[0m     \u001b[38;5;28mprint\u001b[39m(\u001b[38;5;124mf\u001b[39m\u001b[38;5;124m'\u001b[39m\u001b[38;5;124mCreating DEM \u001b[39m\u001b[38;5;132;01m{\u001b[39;00mlas_dem\u001b[38;5;132;01m}\u001b[39;00m\u001b[38;5;124m'\u001b[39m)\n\u001b[1;32m---> 38\u001b[0m     arcpy\u001b[38;5;241m.\u001b[39mconversion\u001b[38;5;241m.\u001b[39mLasDatasetToRaster(\n\u001b[0;32m     39\u001b[0m         in_las_dataset\u001b[38;5;241m=\u001b[39m\u001b[38;5;124m'\u001b[39m\u001b[38;5;124mground_las\u001b[39m\u001b[38;5;124m'\u001b[39m, \n\u001b[0;32m     40\u001b[0m         out_raster\u001b[38;5;241m=\u001b[39m\u001b[38;5;28mstr\u001b[39m(las_dem\u001b[38;5;241m.\u001b[39mname), \n\u001b[0;32m     41\u001b[0m         value_field\u001b[38;5;241m=\u001b[39m\u001b[38;5;124m'\u001b[39m\u001b[38;5;124mELEVATION\u001b[39m\u001b[38;5;124m'\u001b[39m,\n\u001b[0;32m     42\u001b[0m         interpolation_type\u001b[38;5;241m=\u001b[39m\u001b[38;5;124m'\u001b[39m\u001b[38;5;124mBINNING AVERAGE LINEAR\u001b[39m\u001b[38;5;124m'\u001b[39m, \n\u001b[0;32m     43\u001b[0m         data_type\u001b[38;5;241m=\u001b[39m\u001b[38;5;124m'\u001b[39m\u001b[38;5;124mFLOAT\u001b[39m\u001b[38;5;124m'\u001b[39m, \n\u001b[0;32m     44\u001b[0m         sampling_type\u001b[38;5;241m=\u001b[39m\u001b[38;5;124m'\u001b[39m\u001b[38;5;124mCELLSIZE\u001b[39m\u001b[38;5;124m'\u001b[39m, \n\u001b[0;32m     45\u001b[0m         sampling_value\u001b[38;5;241m=\u001b[39m\u001b[38;5;241m0.5\u001b[39m, \n\u001b[0;32m     46\u001b[0m         z_factor\u001b[38;5;241m=\u001b[39m\u001b[38;5;241m1\u001b[39m\n\u001b[0;32m     47\u001b[0m         )\n\u001b[0;32m     48\u001b[0m \u001b[38;5;66;03m#Add the dem to the list of dems\u001b[39;00m\n\u001b[0;32m     49\u001b[0m the_dems\u001b[38;5;241m.\u001b[39mappend(las_dem)\n",
      "File \u001b[1;32mc:\\Program Files\\ArcGIS\\Pro\\Resources\\ArcPy\\arcpy\\conversion.py:2093\u001b[0m, in \u001b[0;36mLasDatasetToRaster\u001b[1;34m(in_las_dataset, out_raster, value_field, interpolation_type, data_type, sampling_type, sampling_value, z_factor)\u001b[0m\n\u001b[0;32m   2091\u001b[0m     \u001b[38;5;28;01mreturn\u001b[39;00m retval\n\u001b[0;32m   2092\u001b[0m \u001b[38;5;28;01mexcept\u001b[39;00m \u001b[38;5;167;01mException\u001b[39;00m \u001b[38;5;28;01mas\u001b[39;00m e:\n\u001b[1;32m-> 2093\u001b[0m     \u001b[38;5;28;01mraise\u001b[39;00m e\n",
      "File \u001b[1;32mc:\\Program Files\\ArcGIS\\Pro\\Resources\\ArcPy\\arcpy\\conversion.py:2075\u001b[0m, in \u001b[0;36mLasDatasetToRaster\u001b[1;34m(in_las_dataset, out_raster, value_field, interpolation_type, data_type, sampling_type, sampling_value, z_factor)\u001b[0m\n\u001b[0;32m   2071\u001b[0m \u001b[38;5;28;01mfrom\u001b[39;00m \u001b[38;5;21;01marcpy\u001b[39;00m\u001b[38;5;21;01m.\u001b[39;00m\u001b[38;5;21;01marcobjects\u001b[39;00m\u001b[38;5;21;01m.\u001b[39;00m\u001b[38;5;21;01marcobjectconversion\u001b[39;00m \u001b[38;5;28;01mimport\u001b[39;00m convertArcObjectToPythonObject\n\u001b[0;32m   2073\u001b[0m \u001b[38;5;28;01mtry\u001b[39;00m:\n\u001b[0;32m   2074\u001b[0m     retval \u001b[38;5;241m=\u001b[39m convertArcObjectToPythonObject(\n\u001b[1;32m-> 2075\u001b[0m         gp\u001b[38;5;241m.\u001b[39mLasDatasetToRaster_conversion(\n\u001b[0;32m   2076\u001b[0m             \u001b[38;5;241m*\u001b[39mgp_fixargs(\n\u001b[0;32m   2077\u001b[0m                 (\n\u001b[0;32m   2078\u001b[0m                     in_las_dataset,\n\u001b[0;32m   2079\u001b[0m                     out_raster,\n\u001b[0;32m   2080\u001b[0m                     value_field,\n\u001b[0;32m   2081\u001b[0m                     interpolation_type,\n\u001b[0;32m   2082\u001b[0m                     data_type,\n\u001b[0;32m   2083\u001b[0m                     sampling_type,\n\u001b[0;32m   2084\u001b[0m                     sampling_value,\n\u001b[0;32m   2085\u001b[0m                     z_factor,\n\u001b[0;32m   2086\u001b[0m                 ),\n\u001b[0;32m   2087\u001b[0m                 \u001b[38;5;28;01mTrue\u001b[39;00m,\n\u001b[0;32m   2088\u001b[0m             )\n\u001b[0;32m   2089\u001b[0m         )\n\u001b[0;32m   2090\u001b[0m     )\n\u001b[0;32m   2091\u001b[0m     \u001b[38;5;28;01mreturn\u001b[39;00m retval\n\u001b[0;32m   2092\u001b[0m \u001b[38;5;28;01mexcept\u001b[39;00m \u001b[38;5;167;01mException\u001b[39;00m \u001b[38;5;28;01mas\u001b[39;00m e:\n",
      "File \u001b[1;32mc:\\Program Files\\ArcGIS\\Pro\\Resources\\ArcPy\\arcpy\\geoprocessing\\_base.py:533\u001b[0m, in \u001b[0;36mGeoprocessor.__getattr__.<locals>.<lambda>\u001b[1;34m(*args)\u001b[0m\n\u001b[0;32m    531\u001b[0m val \u001b[38;5;241m=\u001b[39m \u001b[38;5;28mgetattr\u001b[39m(\u001b[38;5;28mself\u001b[39m\u001b[38;5;241m.\u001b[39m_gp, attr)\n\u001b[0;32m    532\u001b[0m \u001b[38;5;28;01mif\u001b[39;00m \u001b[38;5;28mcallable\u001b[39m(val):\n\u001b[1;32m--> 533\u001b[0m     \u001b[38;5;28;01mreturn\u001b[39;00m \u001b[38;5;28;01mlambda\u001b[39;00m \u001b[38;5;241m*\u001b[39margs: val(\u001b[38;5;241m*\u001b[39mgp_fixargs(args, \u001b[38;5;28;01mTrue\u001b[39;00m))\n\u001b[0;32m    534\u001b[0m \u001b[38;5;28;01melse\u001b[39;00m:\n\u001b[0;32m    535\u001b[0m     \u001b[38;5;28;01mreturn\u001b[39;00m convertArcObjectToPythonObject(val)\n",
      "\u001b[1;31mExecuteError\u001b[0m: ERROR 000210: Cannot create output DEM_18STD28128700.tif\nFailed to execute (LasDatasetToRaster).\n"
     ]
    }
   ],
   "source": [
    "#Fetch the tiles from the Box drive\n",
    "box_path = Path.home()/'Box'/ 'PROJECT 05-21-2025□ USGS3DEP'\n",
    "if not box_path.exists(): print('Unable to connect to Box folder')\n",
    "the_dems = []\n",
    "\n",
    "for the_idx in df.index.values: \n",
    "    #Get the project folder\n",
    "    the_folder = box_path / df.loc[the_idx,'project']\n",
    "    if not the_folder.exists(): \n",
    "        print(f'unable to locate {the_folder}')\n",
    "        break\n",
    "    #Get the tile in the folder\n",
    "    the_tile = the_folder / df.loc[the_idx,'tile'].replace('.las','.laz')\n",
    "    if not the_tile.exists(): \n",
    "        print(f'unable to locate {the_tile}')\n",
    "        break\n",
    "    #Convert the laz file to a lasd file\n",
    "    lasd_filename = str(the_tile.name).replace('.laz','.las')\n",
    "    if (scratch_fldr/lasd_filename).exists():\n",
    "        print(f'las file already created; skipping')\n",
    "    else:\n",
    "        print(f'Converting {the_tile.name} to {lasd_filename}')\n",
    "        arcpy.conversion.ConvertLas(\n",
    "            in_las = str(the_tile),\n",
    "            target_folder = str(scratch_fldr),\n",
    "            las_options=['REARRANGE_POINTS'],\n",
    "            out_las_dataset=lasd_filename\n",
    "        )\n",
    "    #Filter out ground points (Class=2) and convert to raster\n",
    "    arcpy.management.MakeLasDatasetLayer(\n",
    "        in_las_dataset=str(scratch_fldr/lasd_filename),\n",
    "        out_layer='ground_las',\n",
    "        class_code=[2]\n",
    "    )\n",
    "    #Convert to raster\n",
    "    las_dem = scratch_fldr/f'DEM_{lasd_filename[:-4]}.tif'\n",
    "    if las_dem.exists():\n",
    "        print(f'{las_dem} exists; skipping')\n",
    "    else:\n",
    "        print(f'Creating DEM {las_dem}')\n",
    "        arcpy.conversion.LasDatasetToRaster(\n",
    "            in_las_dataset='ground_las', \n",
    "            out_raster=str(las_dem.name), \n",
    "            value_field='ELEVATION',\n",
    "            interpolation_type='BINNING AVERAGE LINEAR', \n",
    "            data_type='FLOAT', \n",
    "            sampling_type='CELLSIZE', \n",
    "            sampling_value=0.5, \n",
    "            z_factor=1\n",
    "            )\n",
    "    #Add the dem to the list of dems\n",
    "    the_dems.append(las_dem)"
   ]
  },
  {
   "cell_type": "code",
   "execution_count": 122,
   "id": "f52d5db4",
   "metadata": {},
   "outputs": [
    {
     "name": "stdout",
     "output_type": "stream",
     "text": [
      "Mosaic rasters to d:\\jpfay\\Fetch-USGS-3DEP\\data\\LAS_scratch\\Hof01_Final.tif\n"
     ]
    },
    {
     "ename": "NameError",
     "evalue": "name 'the_dems' is not defined",
     "output_type": "error",
     "traceback": [
      "\u001b[1;31m---------------------------------------------------------------------------\u001b[0m",
      "\u001b[1;31mNameError\u001b[0m                                 Traceback (most recent call last)",
      "Cell \u001b[1;32mIn[122], line 5\u001b[0m\n\u001b[0;32m      2\u001b[0m output_name \u001b[38;5;241m=\u001b[39m las_file\u001b[38;5;241m.\u001b[39mname[:\u001b[38;5;241m-\u001b[39m\u001b[38;5;241m4\u001b[39m]\u001b[38;5;241m+\u001b[39m\u001b[38;5;124m'\u001b[39m\u001b[38;5;124m.tif\u001b[39m\u001b[38;5;124m'\u001b[39m\n\u001b[0;32m      3\u001b[0m \u001b[38;5;28mprint\u001b[39m(\u001b[38;5;124mf\u001b[39m\u001b[38;5;124m'\u001b[39m\u001b[38;5;124mMosaic rasters to \u001b[39m\u001b[38;5;132;01m{\u001b[39;00mscratch_fldr\u001b[38;5;241m/\u001b[39moutput_name\u001b[38;5;132;01m}\u001b[39;00m\u001b[38;5;124m'\u001b[39m)\n\u001b[0;32m      4\u001b[0m arcpy\u001b[38;5;241m.\u001b[39mmanagement\u001b[38;5;241m.\u001b[39mMosaicToNewRaster(\n\u001b[1;32m----> 5\u001b[0m     input_rasters \u001b[38;5;241m=\u001b[39m the_dems,\n\u001b[0;32m      6\u001b[0m     output_location\u001b[38;5;241m=\u001b[39m \u001b[38;5;28mstr\u001b[39m(scratch_fldr),\n\u001b[0;32m      7\u001b[0m     raster_dataset_name_with_extension\u001b[38;5;241m=\u001b[39moutput_name,\n\u001b[0;32m      8\u001b[0m     pixel_type\u001b[38;5;241m=\u001b[39m\u001b[38;5;124m'\u001b[39m\u001b[38;5;124m32_BIT_FLOAT\u001b[39m\u001b[38;5;124m'\u001b[39m,\n\u001b[0;32m      9\u001b[0m     cellsize\u001b[38;5;241m=\u001b[39m\u001b[38;5;241m0.5\u001b[39m,\n\u001b[0;32m     10\u001b[0m     number_of_bands\u001b[38;5;241m=\u001b[39m\u001b[38;5;241m1\u001b[39m,\n\u001b[0;32m     11\u001b[0m     mosaic_method\u001b[38;5;241m=\u001b[39m\u001b[38;5;124m'\u001b[39m\u001b[38;5;124mBLEND\u001b[39m\u001b[38;5;124m'\u001b[39m,\n\u001b[0;32m     12\u001b[0m     mosaic_colormap_mode\u001b[38;5;241m=\u001b[39m\u001b[38;5;124m'\u001b[39m\u001b[38;5;124mFIRST\u001b[39m\u001b[38;5;124m'\u001b[39m\n\u001b[0;32m     13\u001b[0m )\n",
      "\u001b[1;31mNameError\u001b[0m: name 'the_dems' is not defined"
     ]
    }
   ],
   "source": [
    "#Mosaic all the DEMs and clip them to the Duke LAS footprint\n",
    "output_name = las_file.name[:-4]+'.tif'\n",
    "print(f'Mosaic rasters to {scratch_fldr/output_name}')\n",
    "arcpy.management.MosaicToNewRaster(\n",
    "    input_rasters = the_dems,\n",
    "    output_location= str(scratch_fldr),\n",
    "    raster_dataset_name_with_extension=output_name,\n",
    "    pixel_type='32_BIT_FLOAT',\n",
    "    cellsize=0.5,\n",
    "    number_of_bands=1,\n",
    "    mosaic_method='BLEND',\n",
    "    mosaic_colormap_mode='FIRST'\n",
    ")"
   ]
  }
 ],
 "metadata": {
  "kernelspec": {
   "display_name": "arcgispro-py3",
   "language": "python",
   "name": "python3"
  },
  "language_info": {
   "codemirror_mode": {
    "name": "ipython",
    "version": 3
   },
   "file_extension": ".py",
   "mimetype": "text/x-python",
   "name": "python",
   "nbconvert_exporter": "python",
   "pygments_lexer": "ipython3",
   "version": "3.11.11"
  }
 },
 "nbformat": 4,
 "nbformat_minor": 5
}
