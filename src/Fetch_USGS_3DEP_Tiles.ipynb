{
 "cells": [
  {
   "cell_type": "markdown",
   "id": "07941128",
   "metadata": {},
   "source": [
    "# Fetch USGS 3DEP Tiles\n",
    "This notebook downloads USGS 3DEP Tiles from the USGS Hurricane Florence Project"
   ]
  },
  {
   "cell_type": "code",
   "execution_count": null,
   "id": "fbee18a4",
   "metadata": {},
   "outputs": [],
   "source": [
    "#Packages\n",
    "from pathlib import Path\n",
    "import pandas as pd\n",
    "from urllib import request"
   ]
  },
  {
   "cell_type": "code",
   "execution_count": null,
   "id": "12715447",
   "metadata": {},
   "outputs": [],
   "source": [
    "#Set the path to the download_links.csv file\n",
    "links_csv = Path.cwd().parent/'data'/'download_links.csv'\n",
    "links_csv.exists()"
   ]
  },
  {
   "cell_type": "code",
   "execution_count": null,
   "id": "7b36e991",
   "metadata": {},
   "outputs": [],
   "source": [
    "#Set the output folder\n",
    "base_fldr = Path.home() / 'Box' / 'PROJECT 05-21-2025□ USGS3DEP'\n",
    "base_fldr.exists()"
   ]
  },
  {
   "cell_type": "code",
   "execution_count": null,
   "id": "2618aee5",
   "metadata": {},
   "outputs": [],
   "source": [
    "#Read in the download links CSV as a dataframe\n",
    "df_links = pd.read_csv(links_csv)\n",
    "\n",
    "#Get list of projects \n",
    "projects = df_links['filename'].unique()\n",
    "projects"
   ]
  },
  {
   "cell_type": "markdown",
   "id": "59a9b162",
   "metadata": {},
   "source": [
    "For a given project:\n",
    "* Check for a folder in the out_fldr space, create if needed\n",
    "* Create a dataframe of records for that project\n",
    "* Iterate through each record:\n",
    "    - See if the laz file already exists. If so, continue\n",
    "    - Download the laz, saving it with the filename"
   ]
  },
  {
   "cell_type": "code",
   "execution_count": null,
   "id": "84c8e659",
   "metadata": {},
   "outputs": [],
   "source": [
    "for the_project in projects:\n",
    "    print(f'Processing \"{the_project}\"')\n",
    "      \n",
    "    #Check/create a project folder\n",
    "    project_fldr = base_fldr / the_project\n",
    "    project_fldr.mkdir(parents=True, exist_ok=True)\n",
    "\n",
    "    #Subset records for the project\n",
    "    df_prj = df_links.query(f\"filename == '{the_project}'\")\n",
    "\n",
    "    #Initialize the counter\n",
    "    i = 0\n",
    "\n",
    "    #Stats variables\n",
    "    total_records = df_prj.shape[0]\n",
    "    print(f'{total_records} to process')\n",
    "\n",
    "    #Iterate through rows in the subset dataframe\n",
    "    for i, row in df_prj.iterrows():\n",
    "        #Status\n",
    "        pct_complete = ((i))/total_records * 100\n",
    "        #Values\n",
    "        the_link = row['link']\n",
    "        tile_id = row['tile_id']\n",
    "        out_file = project_fldr / f'{tile_id}.laz'\n",
    "        #Skip if already downloaded\n",
    "        if out_file.exists(): \n",
    "            print(f'{tile_id}.laz fetched.\\t\\t{i} of {total_records} complete: {the_project}')\n",
    "            continue\n",
    "        #Fetch the laz file \n",
    "        else:\n",
    "            print(f'Fetching {tile_id}.laz\\t\\t{i} of {total_records} complete: {the_project}')\n",
    "            request.urlretrieve(the_link, str(out_file))\n",
    "                    "
   ]
  }
 ],
 "metadata": {
  "kernelspec": {
   "display_name": "gee",
   "language": "python",
   "name": "python3"
  },
  "language_info": {
   "codemirror_mode": {
    "name": "ipython",
    "version": 3
   },
   "file_extension": ".py",
   "mimetype": "text/x-python",
   "name": "python",
   "nbconvert_exporter": "python",
   "pygments_lexer": "ipython3",
   "version": "3.11.12"
  }
 },
 "nbformat": 4,
 "nbformat_minor": 5
}
