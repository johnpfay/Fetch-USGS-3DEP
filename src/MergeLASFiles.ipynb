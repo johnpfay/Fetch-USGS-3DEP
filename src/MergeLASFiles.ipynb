{
 "cells": [
  {
   "cell_type": "markdown",
   "id": "9dc0998f",
   "metadata": {},
   "source": [
    "# Merge LAS Files\n",
    "This notebook creates a single ArcPro LAS dataset from a set of USGS 3DEP LAZ files"
   ]
  },
  {
   "cell_type": "code",
   "execution_count": 1,
   "id": "60b01298",
   "metadata": {},
   "outputs": [],
   "source": [
    "#Packages\n",
    "from pathlib import Path\n",
    "import arcpy"
   ]
  },
  {
   "cell_type": "code",
   "execution_count": 13,
   "id": "b317306d",
   "metadata": {},
   "outputs": [],
   "source": [
    "#Create scratch folder\n",
    "scratch_fldr = Path.cwd().parent/'data'/'scratch_toLAS'\n",
    "scratch_fldr.mkdir(parents=True,exist_ok=True)\n",
    "arcpy.env.workspace = str(scratch_fldr)"
   ]
  },
  {
   "cell_type": "code",
   "execution_count": 5,
   "id": "571ed10c",
   "metadata": {},
   "outputs": [],
   "source": [
    "#Data: Laz files\n",
    "laz_files = list(Path(r'D:\\jpfay\\HoffmanForest_FAY\\Data\\raw\\USGS_3DEP_LAS').glob('*.laz'))"
   ]
  },
  {
   "cell_type": "code",
   "execution_count": 25,
   "id": "ed77ff7e",
   "metadata": {},
   "outputs": [
    {
     "name": "stdout",
     "output_type": "stream",
     "text": [
      "Converting 18STD27978685.las\n",
      "Converting 18STD27978692.las\n",
      "Converting 18STD28058685.las\n",
      "Converting 18STD28058692.las\n"
     ]
    }
   ],
   "source": [
    "#Process: Convert LAZ to ArcPro LAS\n",
    "for laz_file in laz_files:\n",
    "    #Get the output name\n",
    "    las_file = laz_file.name.replace('.laz','.las')\n",
    "    if not arcpy.Exists(las_file):\n",
    "        print(f'Converting {las_file}')\n",
    "        arcpy.conversion.ConvertLas(\n",
    "                    in_las = str(laz_file),\n",
    "                    target_folder = str(scratch_fldr),\n",
    "                    las_options=['REARRANGE_POINTS'],\n",
    "                    out_las_dataset=las_file\n",
    "                )"
   ]
  },
  {
   "cell_type": "code",
   "execution_count": 28,
   "id": "9ce1c22f",
   "metadata": {},
   "outputs": [
    {
     "name": "stdout",
     "output_type": "stream",
     "text": [
      "Combining tiles into a single LAS dataset\n",
      "Building pyramids\n"
     ]
    },
    {
     "data": {
      "text/html": [
       "<div class='gpresult'><h2 class='msg-title'>Messages</h2><div id='messages'>Start Time: Thursday, June 12, 2025 3:13:00 PM<br>Succeeded at Thursday, June 12, 2025 3:14:40 PM (Elapsed Time: 1 minutes 39 seconds)<br></div><div id = 'default' /></div></div>"
      ],
      "text/plain": [
       "<Result 'd:\\\\jpfay\\\\Fetch-USGS-3DEP\\\\data\\\\scratch_toLAS\\\\USFS_Hoffman_07.lasd'>"
      ]
     },
     "execution_count": 28,
     "metadata": {},
     "output_type": "execute_result"
    }
   ],
   "source": [
    "#Create a las dataset for all tiles\n",
    "combined_lasd = 'USFS_Hoffman_07.lasd'\n",
    "print('Combining tiles into a single LAS dataset')\n",
    "arcpy.management.CreateLasDataset(\n",
    "    input=str(scratch_fldr),\n",
    "    out_las_dataset= combined_lasd\n",
    ")\n",
    "\n",
    "#Build pyramids\n",
    "print('Building pyramids')\n",
    "arcpy.management.BuildLasDatasetPyramid(combined_lasd)"
   ]
  }
 ],
 "metadata": {
  "kernelspec": {
   "display_name": "arcgispro-py3",
   "language": "python",
   "name": "python3"
  },
  "language_info": {
   "codemirror_mode": {
    "name": "ipython",
    "version": 3
   },
   "file_extension": ".py",
   "mimetype": "text/x-python",
   "name": "python",
   "nbconvert_exporter": "python",
   "pygments_lexer": "ipython3",
   "version": "3.11.11"
  }
 },
 "nbformat": 4,
 "nbformat_minor": 5
}
