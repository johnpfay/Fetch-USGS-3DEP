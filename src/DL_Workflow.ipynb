{
 "cells": [
  {
   "cell_type": "markdown",
   "id": "d599ed14",
   "metadata": {},
   "source": [
    "# Deep Learning Workflow\n",
    "\n",
    "## Requirements\n",
    "* ArcGIS Pro v3.4\n",
    "* Deep Learning Libraries installed\n",
    "* NAIP Imagery tile to train model\n",
    "* Labeled drainage features\n",
    "* NAIP Imagery tile to apply the model\n",
    "\n",
    "## Workflow\n",
    "* Export training data for deep learning\n",
    "* Train deep learning model on primary NAIP image\n",
    "* Apply deep learning model on secondary NAIP image"
   ]
  },
  {
   "cell_type": "code",
   "execution_count": null,
   "id": "e6a40b11",
   "metadata": {},
   "outputs": [],
   "source": [
    "# Packages\n",
    "from pathlib import Path\n",
    "import requests\n",
    "import arcpy"
   ]
  },
  {
   "cell_type": "code",
   "execution_count": null,
   "id": "d5dc1932",
   "metadata": {},
   "outputs": [],
   "source": [
    "#Paths\n",
    "\n",
    "# Raw data folder\n",
    "raw_data_folder = Path.cwd().parent / 'data' / 'raw'\n",
    "\n",
    "# NAIP folder\n",
    "naip_folder = Path.cwd().parent / 'data' / 'raw' / 'naip'\n",
    "\n",
    "# Training data folder\n",
    "training_data_folder = Path.cwd().parent / 'data' / '01_training'\n",
    "modeling_data_folder = Path.cwd().parent / 'data' / '02_modeling'\n",
    "generated_data_folder = Path.cwd().parent / 'data' / '03_generated'\n"
   ]
  },
  {
   "cell_type": "markdown",
   "id": "99fdd2fb",
   "metadata": {},
   "source": [
    "#### Code for downloading NAIP tiles"
   ]
  },
  {
   "cell_type": "code",
   "execution_count": null,
   "id": "5083e1bf",
   "metadata": {},
   "outputs": [],
   "source": [
    "# NAIP download url\n",
    "naip_url = 'https://dit-cgia-gis-data.s3.amazonaws.com/orthoimagery-program/tiles/2024/sids/OF6i0_37_000_{}_20240203_0219R0.sid'\n",
    "\n",
    "# NAIP tiles\n",
    "naip_tiles_ids = [\n",
    "    '20732901',\n",
    "    '20731902',\n",
    "    '20742003',\n",
    "]\n",
    "\n",
    "# Fetch all tiles\n",
    "for the_tile_id in naip_tiles_ids:\n",
    "    print(f'Fetching tile {the_tile_id}')\n",
    "\n",
    "    #Create file names\n",
    "    the_sid_file = str(naip_folder / the_tile_id) + '.sid'\n",
    "    the_sdw_file = str(naip_folder / the_tile_id) + '.sdw'\n",
    "\n",
    "    #Check if the file exists\n",
    "    if Path(the_sid_file).exists():\n",
    "        print(f' File {the_sid_file} already exists.')\n",
    "        fetch_sid = False\n",
    "    else: \n",
    "        fetch_sid = True\n",
    "\n",
    "    if Path(the_sdw_file).exists():\n",
    "        print(f' File {the_sdw_file} already exists.')\n",
    "        fetch_sdw = False\n",
    "    else:\n",
    "        fetch_sdw = True\n",
    "\n",
    "    # Construct the data urls\n",
    "    sid_url = naip_url.format(the_tile_id)\n",
    "    sdw_url = sid_url.replace('.sid', '.sdw')\n",
    "\n",
    "    # Fetch the sid file\n",
    "    if fetch_sid:\n",
    "        response_sid = requests.get(sid_url)\n",
    "        if response_sid.status_code == 200:\n",
    "            binary_data = response_sid.content\n",
    "            # Process binary_data (e.g., save to file)\n",
    "            with open(the_sid_file, 'wb') as file:\n",
    "                file.write(binary_data)\n",
    "            print(f\"  Downloaded {the_sid_file} successfully.\")\n",
    "        else:\n",
    "            print(f\"  Failed to retrieve data: Status code {response.status_code}\")\n",
    "            print(sid_url)\n",
    "\n",
    "    # Fetch the sdw files\n",
    "    if fetch_sdw:\n",
    "        response_sdw = requests.get(sdw_url)\n",
    "        if response_sdw.status_code == 200:\n",
    "            binary_data = response_sdw.content\n",
    "            # Process binary_data (e.g., save to file)\n",
    "            with open(the_sdw_file, 'wb') as file:\n",
    "                file.write(binary_data)\n",
    "            print(f\"  Downloaded {the_sdw_file} successfully.\")\n",
    "        else:\n",
    "            print(f\"  Failed to retrieve data: Status code {response.status_code}\")\n",
    "            print(sid_url)"
   ]
  },
  {
   "cell_type": "markdown",
   "id": "35bf71a2",
   "metadata": {},
   "source": [
    "### Code for generating training data\n",
    "* Requires labeled features & image raster"
   ]
  },
  {
   "cell_type": "code",
   "execution_count": null,
   "id": "00730f27",
   "metadata": {},
   "outputs": [],
   "source": [
    "#Labeled features\n",
    "labeled_features = str(Path().cwd().parent / 'data' / 'raw' / 'labeled_ditches.shp')\n",
    "\n",
    "# Training output\n",
    "training_output = training_data_folder / 'training_output'\n",
    "\n",
    "# Train the model\n",
    "if not training_output.exists():\n",
    "    tool_result = arcpy.ia.ExportTrainingDataForDeepLearning(\n",
    "        in_raster=          str(naip_folder / '20732901.sid'), \n",
    "        out_folder =        str(training_output),\n",
    "        in_class_data =     labeled_features, \n",
    "        class_value_field = 'Classvalue',\n",
    "        image_chip_format = 'TIFF', \n",
    "        tile_size_x =       512, \n",
    "        tile_size_y =       512,\n",
    "        stride_x =          256,\n",
    "        stride_y =          256,\n",
    "        output_nofeature_tiles = False,\n",
    "        metadata_format =   \"RCNN_Masks\",  # <----\n",
    "        #buffer_radius,\n",
    "        #in_mask_polygons,\n",
    "        #rotation_angle,\n",
    "        #reference_system,\n",
    "        #processing_mode,\n",
    "        #blacken_around_feature,\n",
    "        #crop_mode,\n",
    "        #in_raster2,\n",
    "        #in_instance_data,\n",
    "        #instance_class_value_field,\n",
    "        #min_polygon_overlap_ratio\n",
    "        )\n",
    "    print(tool_result.getMessages())"
   ]
  },
  {
   "cell_type": "markdown",
   "id": "83689545",
   "metadata": {},
   "source": [
    "### Training the Model\n",
    "https://pro.arcgis.com/en/pro-app/latest/tool-reference/image-analyst/train-deep-learning-model.htm"
   ]
  },
  {
   "cell_type": "code",
   "execution_count": null,
   "id": "e3a4d0e1",
   "metadata": {},
   "outputs": [],
   "source": [
    "#Set output modeling folder\n",
    "modeling_output = modeling_data_folder / 'modeling_output' "
   ]
  },
  {
   "cell_type": "code",
   "execution_count": null,
   "id": "3b0d9ad3",
   "metadata": {},
   "outputs": [],
   "source": [
    "tool_result = arcpy.ia.TrainDeepLearningModel(\n",
    "    in_folder = str(training_output),\n",
    "    out_folder = str(modeling_output),\n",
    "    max_epochs = 20,\n",
    "    model_type = 'MASKRCNN',\n",
    "    batch_size = 1\n",
    "    )\n",
    "    \n",
    "print(tool_result.getMessages())"
   ]
  },
  {
   "cell_type": "code",
   "execution_count": null,
   "id": "7182db94",
   "metadata": {},
   "outputs": [],
   "source": [
    "arcpy.getMessages()"
   ]
  }
 ],
 "metadata": {
  "kernelspec": {
   "display_name": "arcgispro-py3",
   "language": "python",
   "name": "python3"
  },
  "language_info": {
   "codemirror_mode": {
    "name": "ipython",
    "version": 3
   },
   "file_extension": ".py",
   "mimetype": "text/x-python",
   "name": "python",
   "nbconvert_exporter": "python",
   "pygments_lexer": "ipython3",
   "version": "3.11.10"
  }
 },
 "nbformat": 4,
 "nbformat_minor": 5
}
