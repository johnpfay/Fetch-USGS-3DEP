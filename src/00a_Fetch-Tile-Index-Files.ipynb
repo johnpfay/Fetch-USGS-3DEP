{
 "cells": [
  {
   "cell_type": "markdown",
   "id": "8c0baa83",
   "metadata": {},
   "source": [
    "# Fetch Tile Index Files\n",
    "This notebook downloads the tile index layers, in geopackage format, to the local Box drive. All 13 project geopackages are downloaded, the tile feature classes are merged into a single feature class named `USGS_Tiles` in the `USGS3DEP_Indices.gdb`\n",
    "\n",
    "### Manually downloading the geopackages:\n",
    "1. Navigate to <https://prd-tnm.s3.amazonaws.com/index.html?prefix=StagedProducts/Elevation/metadata/NC_HurricaneFlorence_2020_D20>\n",
    "1. Click on one of the project folders, eg `NC_HurFlo_NOAA_12_2020`\n",
    "1. Navigate to `spatial_metadata`\\\\`USGS`\n",
    "1. Click on the `lpc_index.gpkg` to download the file\n",
    "\n",
    "### Download links\n",
    "* `https://prd-tnm.s3.amazonaws.com/StagedProducts/Elevation/metadata/NC_HurricaneFlorence_2020_D20/<project name>/spatial_metadata/USGS/lpc_index.gpkg`<br>\n",
    "replacing `<project name>` with the project name.\n",
    "\n",
    "**CONDA ENVIRONMENT**: `arcgispro-py3`"
   ]
  },
  {
   "cell_type": "code",
   "execution_count": null,
   "id": "0311a456",
   "metadata": {},
   "outputs": [],
   "source": [
    "#Packages\n",
    "from pathlib import Path\n",
    "from urllib import request\n",
    "import numpy as np\n",
    "import pandas as pd\n",
    "import arcpy"
   ]
  },
  {
   "cell_type": "code",
   "execution_count": null,
   "id": "5f19b0ad",
   "metadata": {},
   "outputs": [],
   "source": [
    "#Set the output folder on Box\n",
    "save_fldr = Path.home() / 'Box' / 'PROJECT 05-21-2025□ USGS3DEP' / 'Tile_Indices'\n",
    "if not save_fldr.exists(): \n",
    "    print(\"Folder not found. Is Box drive running?\")"
   ]
  },
  {
   "cell_type": "code",
   "execution_count": null,
   "id": "de5e1d9f",
   "metadata": {},
   "outputs": [],
   "source": [
    "#Create a geodatabase in the Box folder\n",
    "out_gdb = arcpy.management.CreateFileGDB(\n",
    "    out_folder_path = str(save_fldr),\n",
    "    out_name = \"USGS3DEP_Indices\"\n",
    ")[0]"
   ]
  },
  {
   "cell_type": "code",
   "execution_count": null,
   "id": "e7164ab7",
   "metadata": {},
   "outputs": [],
   "source": [
    "#Data paths\n",
    "project_url='https://prd-tnm.s3.amazonaws.com/StagedProducts/Elevation/metadata/NC_HurricaneFlorence_2020_D20/{}/spatial_metadata/USGS/lpc_index.gpkg'\n",
    "\n",
    "#Sub folders\n",
    "sub_folders = [\n",
    "    'NC_HurFlo_NOAA_12_2020',\n",
    "    'NC_HurFlo_NOAA_13_2020',\n",
    "    'NC_HurFlo_NOAA_14_2020',\n",
    "    'NC_HurFlo_NOAA_15_2020',\n",
    "    'NC_HurricaneFlorence_10_2020',\n",
    "    'NC_HurricaneFlorence_11_2020',\n",
    "    'NC_HurricaneFlorence_1_2020',\n",
    "    'NC_HurricaneFlorence_2_2020',\n",
    "    'NC_HurricaneFlorence_3_2020',\n",
    "    'NC_HurricaneFlorence_4_2020',\n",
    "    'NC_HurricaneFlorence_5_2020',\n",
    "    'NC_HurricaneFlorence_6_2020',\n",
    "    'NC_HurricaneFlorence_7_2020',\n",
    "    'NC_HurricaneFlorence_8_2020',\n",
    "    'NC_HurricaneFlorence_9_2020'\n",
    "]\n"
   ]
  },
  {
   "cell_type": "code",
   "execution_count": null,
   "id": "ec6e509b",
   "metadata": {},
   "outputs": [],
   "source": [
    "#Iterate through the projects and fetch the geopackages, renaming the output with the project name\n",
    "for sub_folder in sub_folders:\n",
    "    #Fetch the geopackage\n",
    "    out_file = save_fldr / f'{sub_folder}.gpkg'\n",
    "\n",
    "    #Skip if already downloaded\n",
    "    if out_file.exists(): \n",
    "        print(f'{out_file.name} already fetched.')\n",
    "        continue\n",
    "    #Fetch the laz file \n",
    "    else:\n",
    "        gpkg_url = project_url.format(sub_folder)\n",
    "        print(f'Fetching {out_file.name}')\n",
    "        request.urlretrieve(gpkg_url, str(out_file))\n",
    "                    "
   ]
  },
  {
   "cell_type": "code",
   "execution_count": null,
   "id": "fd57def1",
   "metadata": {},
   "outputs": [],
   "source": [
    "#Extract the tile feature classes to a single geodatabase\n",
    "for sub_folder in sub_folders:\n",
    "    out_file = save_fldr / f'{sub_folder}.gpkg'\n",
    "    arcpy.env.workspace = str(out_file)\n",
    "    fcs = arcpy.ListFeatureClasses()\n",
    "    for fc in fcs: \n",
    "        print(f'Saving {sub_folder} to {out_gdb}')\n",
    "        #arcpy.conversion.ExportFeatures(\n",
    "        #    in_features=fc,\n",
    "        #    out_features = out_gdb + \"/\" + sub_folder\n",
    "        #)"
   ]
  },
  {
   "cell_type": "code",
   "execution_count": null,
   "id": "b29d4d1e",
   "metadata": {},
   "outputs": [],
   "source": [
    "#Create a list of all the feature classes in the respective geopackage\n",
    "tile_fcs = []\n",
    "for sub_folder in sub_folders:\n",
    "    out_file = save_fldr / f'{sub_folder}.gpkg'\n",
    "    arcpy.env.workspace = str(out_file)\n",
    "    fc = arcpy.ListFeatureClasses()[0]\n",
    "    tile_fcs.append(str(Path(out_file,fc)))   \n",
    "#Merge them together into a new feature class\n",
    "arcpy.management.Merge(\n",
    "    inputs = tile_fcs,\n",
    "    output = out_gdb+'\\\\USGS_Tiles'\n",
    ")"
   ]
  }
 ],
 "metadata": {
  "kernelspec": {
   "display_name": "arcgispro-py3",
   "language": "python",
   "name": "python3"
  },
  "language_info": {
   "codemirror_mode": {
    "name": "ipython",
    "version": 3
   },
   "file_extension": ".py",
   "mimetype": "text/x-python",
   "name": "python",
   "nbconvert_exporter": "python",
   "pygments_lexer": "ipython3",
   "version": "3.11.11"
  }
 },
 "nbformat": 4,
 "nbformat_minor": 5
}
